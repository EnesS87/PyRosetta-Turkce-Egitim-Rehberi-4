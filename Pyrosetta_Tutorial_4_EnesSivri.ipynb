{
  "nbformat": 4,
  "nbformat_minor": 0,
  "metadata": {
    "colab": {
      "provenance": [],
      "authorship_tag": "ABX9TyNpDXiwe71T/HpP6Jw2p+FZ",
      "include_colab_link": true
    },
    "kernelspec": {
      "name": "python3",
      "display_name": "Python 3"
    },
    "language_info": {
      "name": "python"
    }
  },
  "cells": [
    {
      "cell_type": "markdown",
      "metadata": {
        "id": "view-in-github",
        "colab_type": "text"
      },
      "source": [
        "<a href=\"https://colab.research.google.com/github/EnesS87/PyRosetta-Turkce-Egitim-Rehberi-4/blob/main/Pyrosetta_Tutorial_4_EnesSivri.ipynb\" target=\"_parent\"><img src=\"https://colab.research.google.com/assets/colab-badge.svg\" alt=\"Open In Colab\"/></a>"
      ]
    },
    {
      "cell_type": "markdown",
      "source": [
        "# Kütüphanelerimizi indiriyoruz"
      ],
      "metadata": {
        "id": "Lpjt1EAiDurV"
      }
    },
    {
      "cell_type": "code",
      "execution_count": null,
      "metadata": {
        "collapsed": true,
        "id": "Or4-3W_uDo4G"
      },
      "outputs": [],
      "source": [
        "!pip install pyrosettacolabsetup\n",
        "!pip install pyrosettacolabsetup\n",
        "!pip install pyrosettacolabsetup py3dmol git+https://github.com/RosettaCommons/pyrosetta_viewer3d.git\n",
        "!pip install py3Dmol nglview"
      ]
    },
    {
      "cell_type": "code",
      "source": [
        "import pyrosettacolabsetup; pyrosettacolabsetup.install_pyrosetta()\n",
        "import pyrosetta; pyrosetta.init()\n",
        "import pyrosetta.distributed.io as io\n",
        "import nglview as nv\n",
        "import numpy as np\n",
        "from pyrosetta import *\n",
        "import pyrosetta.network\n",
        "pyrosetta.init()"
      ],
      "metadata": {
        "collapsed": true,
        "id": "qpHmWzz4Dq3j"
      },
      "execution_count": null,
      "outputs": []
    },
    {
      "cell_type": "code",
      "source": [
        "import glob\n",
        "import logging\n",
        "logging.basicConfig(level=logging.INFO)\n",
        "import os\n",
        "import pyrosetta.distributed.viewer as viewer\n",
        "import sys"
      ],
      "metadata": {
        "id": "9bUrfwFcExqo"
      },
      "execution_count": null,
      "outputs": []
    },
    {
      "cell_type": "markdown",
      "source": [
        "***"
      ],
      "metadata": {
        "id": "XVem4twjD7Uw"
      }
    },
    {
      "cell_type": "code",
      "source": [
        "viewer.__all__"
      ],
      "metadata": {
        "collapsed": true,
        "id": "6Uy4uK2SD7-P"
      },
      "execution_count": null,
      "outputs": []
    },
    {
      "cell_type": "code",
      "source": [
        "viewer.presets.__all__"
      ],
      "metadata": {
        "id": "RfxsTX0jE9qS"
      },
      "execution_count": null,
      "outputs": []
    },
    {
      "cell_type": "code",
      "source": [
        "!wget https://files.rcsb.org/download/2IXB.pdb"
      ],
      "metadata": {
        "collapsed": true,
        "id": "3DqcYmmHFFif"
      },
      "execution_count": null,
      "outputs": []
    },
    {
      "cell_type": "code",
      "source": [
        "from pyrosetta.toolbox import cleanATOM\n",
        "\n",
        "cleanATOM('2IXB.pdb')"
      ],
      "metadata": {
        "id": "sAQrIlslGFz7"
      },
      "execution_count": null,
      "outputs": []
    },
    {
      "cell_type": "code",
      "source": [
        "pose = pose_from_pdb('2IXB.clean.pdb')"
      ],
      "metadata": {
        "collapsed": true,
        "id": "oQ4oZo31GKAz"
      },
      "execution_count": null,
      "outputs": []
    },
    {
      "cell_type": "code",
      "source": [
        "view = viewer.init(\"2IXB.clean.pdb\")\n",
        "view.show()"
      ],
      "metadata": {
        "collapsed": true,
        "id": "d5wYfwKRGfSB"
      },
      "execution_count": null,
      "outputs": []
    },
    {
      "cell_type": "markdown",
      "source": [
        "## Kod Açıklaması\n",
        "\n",
        " PyRosetta kullanarak protein yapısı verilerini işlemenize ve görselleştirmenize olanak tanır.\n",
        "\n",
        "***viewer.__all__***\n",
        "\n",
        "* Bu komutlar, viewer ve viewer.presets modüllerinin tüm içeriğini görüntüler. __all__ özelliği, modüldeki tüm içeriği listelemeye yarar. Bu, hangi fonksiyonların ve sınıfların modül içinde mevcut olduğunu görmek için kullanılır.\n",
        "\n",
        "***!wget***\n",
        "\n",
        "* Bu satır, wget komutunu kullanarak PDB formatında bir protein yapı dosyasını (2IXB) RCSB Protein Data Bank'tan indirir.\n",
        "\n",
        "***cleanATOM('2IXB.pdb')***\n",
        "\n",
        "* Bu satırlar, PyRosetta'nın cleanATOM fonksiyonunu kullanarak indirilen PDB dosyasını temizler. cleanATOM fonksiyonu, PDB dosyasındaki gereksiz atomları ve bilgileri temizler ve sadece gerekli olanları bırakır. Sonuç olarak '2IXB.clean.pdb' adında yeni bir dosya oluşturulur.\n",
        "\n",
        "***pose = pose_from_pdb('2IXB.clean.pdb')***\n",
        "\n",
        "* Bu satır, temizlenmiş PDB dosyasını kullanarak bir Pose nesnesi oluşturur. pose_from_pdb fonksiyonu, PDB dosyasındaki atom koordinatlarını ve diğer bilgileri okuyarak PyRosetta içinde kullanılabilecek bir Pose nesnesi oluşturur. Bu nesne, protein yapısını temsil eder ve üzerinde çeşitli analizler ve modifikasyonlar yapılabilir.\n",
        "\n",
        "***view = viewer.init(\"2IXB.clean.pdb\")***\n",
        "\n",
        "* Bu satır, temizlenmiş PDB dosyasını kullanarak bir görselleştirme başlatır. viewer.init fonksiyonu, belirtilen PDB dosyasını yükler ve görselleştirme için hazır hale getirir\n",
        "\n",
        "\n",
        "\n",
        "\n"
      ],
      "metadata": {
        "id": "mAQFqlhLGyCr"
      }
    },
    {
      "cell_type": "markdown",
      "source": [
        "***"
      ],
      "metadata": {
        "id": "FO8ZntKUIBdQ"
      }
    },
    {
      "cell_type": "code",
      "source": [
        "view = viewer.init(pose, window_size=(800,600))\n",
        "view()"
      ],
      "metadata": {
        "collapsed": true,
        "id": "IxpChjnIGpQG"
      },
      "execution_count": null,
      "outputs": []
    },
    {
      "cell_type": "code",
      "source": [
        "view = viewer.init(pose, window_size=(800,600)) + viewer.setStyle()\n",
        "view()"
      ],
      "metadata": {
        "collapsed": true,
        "id": "ivp7pSeIIIof"
      },
      "execution_count": null,
      "outputs": []
    },
    {
      "cell_type": "markdown",
      "source": [
        "## Kod Açıklaması\n",
        "\n",
        "Bu kod, PyRosetta kullanarak bir protein yapısını görselleştirmek için kullanılır.\n",
        "\n",
        "***view = viewer.init(pose, window_size=(800,600))***\n",
        "\n",
        "* Bu satır, pose nesnesini kullanarak bir görselleştirme başlatır. pose, PyRosetta'dan alınan ve protein yapısını temsil eden bir nesnedir. window_size parametresi, görselleştirme penceresinin boyutlarını (800x600 piksel) belirtir.\n",
        "\n",
        "***view = viewer.init(pose, window_size=(800,600)) + viewer.setStyle()***\n",
        "\n",
        "* viewer.setStyle(), Bu fonksiyon, görselleştirmenin stilini ayarlamak için kullanılır. Stil ayarları, protein yapısının nasıl görüntüleneceğini (örneğin, atomların ve bağların nasıl görüneceği) belirler."
      ],
      "metadata": {
        "id": "dDlEF0NcIrg7"
      }
    },
    {
      "cell_type": "markdown",
      "source": [
        "***"
      ],
      "metadata": {
        "id": "Hpf8zQ79JJcE"
      }
    },
    {
      "cell_type": "code",
      "source": [
        "metals_selector = pyrosetta.rosetta.core.select.residue_selector.ResiduePropertySelector(\n",
        "    pyrosetta.rosetta.core.chemical.ResidueProperty.METAL\n",
        ")\n",
        "\n",
        "ligands_selector = pyrosetta.rosetta.core.select.residue_selector.ResiduePropertySelector(\n",
        "    pyrosetta.rosetta.core.chemical.ResidueProperty.LIGAND\n",
        ")\n",
        "\n",
        "view = viewer.init(pose, window_size=(800,600)) \\\n",
        "  + viewer.setStyle() \\\n",
        "  + viewer.setStyle(residue_selector=ligands_selector, style=\"stick\", colorscheme=\"magentaCarbon\", radius=0.5) \\\n",
        "  + viewer.setStyle(residue_selector= metals_selector, style=\"sphere\", colorscheme=\"chainHetatm\", radius=1.5)"
      ],
      "metadata": {
        "id": "v9jMxAKQIXrk"
      },
      "execution_count": null,
      "outputs": []
    },
    {
      "cell_type": "code",
      "source": [
        "view()"
      ],
      "metadata": {
        "collapsed": true,
        "id": "if8PbO3oNAwu"
      },
      "execution_count": null,
      "outputs": []
    },
    {
      "cell_type": "markdown",
      "source": [
        "## Kod Açıklaması\n",
        "\n",
        "PyRosetta kullanarak protein yapısındaki belirli türdeki residue'leri (metaller ve ligandlar) seçer ve bunları farklı görselleştirme stilleriyle görüntüler.\n",
        "\n",
        "***ResiduePropertySelector***\n",
        "\n",
        "* Bu sınıf, belirli bir özelliğe sahip residuleri seçmek için kullanılır. Burada, metal ve ligand residue'lerini seçmek için iki ayrı ResiduePropertySelector oluşturulmuştur.\n",
        "\n",
        "***ResidueProperty.METAL***\n",
        "\n",
        "* Metal residue'lerini seçer.\n",
        "\n",
        "***ResidueProperty.LIGAND***\n",
        "\n",
        "* Ligand residue'lerini seçer.\n",
        "\n",
        "***residue_selector=ligands_selector***\n",
        "\n",
        "*  Ligand residue'lerini seçer.\n",
        "\n",
        "***style=\"stick\"***\n",
        "\n",
        "* Çubuk stiliyle görüntüler.\n",
        "\n",
        "***style=\"sphere\"***\n",
        "\n",
        "* Küre stiliyle görüntüler.\n",
        "\n",
        "colorscheme=\"magentaCarbon\"\n",
        "\n",
        "* Magenta rengi karbon atomları için kullanılır.\n",
        "\n",
        "***colorscheme=\"chainHetatm\"***\n",
        "\n",
        "* Hetero atomlar için zincir bazlı renk şeması kullanılır.\n",
        "\n",
        "***radius=0.5***\n",
        "\n",
        "* Çubukların yarıçapını 0.5 olarak ayarlar.\n",
        "\n"
      ],
      "metadata": {
        "id": "CyAbYBZ_NuWb"
      }
    },
    {
      "cell_type": "markdown",
      "source": [
        "***"
      ],
      "metadata": {
        "id": "V7sjCDheO7Vy"
      }
    },
    {
      "cell_type": "code",
      "source": [
        "poses = [pyrosetta.io.pose_from_sequence(\"TESTVIEWER\" * i) for i in range(1,10)]"
      ],
      "metadata": {
        "id": "peGQ1ND9NIyV"
      },
      "execution_count": null,
      "outputs": []
    },
    {
      "cell_type": "code",
      "source": [
        "view = viewer.init(poses, continuous_update=True)\n",
        "view.add(viewer.setStyle(colorscheme=\"lightgreyCarbon\"))\n",
        "view.add(viewer.setHydrogenBonds(radius=0.1, dashed=False))\n",
        "view()"
      ],
      "metadata": {
        "collapsed": true,
        "id": "DkkmNuQMWmmH"
      },
      "execution_count": null,
      "outputs": []
    },
    {
      "cell_type": "markdown",
      "source": [
        "## Kod Açıklaması\n",
        "\n",
        " PyRosetta kullanarak bir dizi protein yapısı (pose) oluşturur, bu yapıları görselleştirir ve belirli stiller ile hidrojen bağlarını ekler.\n",
        "\n",
        "pyrosetta.io.pose_from_sequence(\"TESTVIEWER\" * i) for i in range(1, 10)\n",
        "\n",
        "* Bu satır, 1'den 9'a kadar olan sayılar için \"TESTVIEWER\" dizisini belirli bir sayıda tekrarlayarak bir pose nesnesi oluşturur ve bunları bir listeye ekler. Her bir pose, farklı uzunlukta bir amino asit dizisinden oluşur.\n",
        "\n",
        "***viewer.init(poses, continuous_update=True)***\n",
        "\n",
        "* pose listesini kullanarak bir görselleştirme başlatır. continuous_update=True parametresi, görselleştirmenin sürekli olarak güncellenmesini sağlar. Bu, dinamik veya zaman içinde değişen yapıları görselleştirirken yararlıdır.\n",
        "\n",
        "***view.add(viewer.setStyle(colorscheme=\"lightgreyCarbon\"))***\n",
        "\n",
        "* Görselleştirmeye genel bir stil ekler. Bu örnekte, karbon atomları için \"lightgrey\" renk şeması kullanılır. Bu stil tüm yapılar için geçerli olur.\n",
        "\n",
        "***view.add(viewer.setHydrogenBonds(radius=0.1, dashed=False))***\n",
        "\n",
        "* Görselleştirmeye hidrojen bağları ekler. Hidrojen bağlarının kalınlığını (radius) 0.1 olarak ayarlar ve bağların kesik çizgilerle (dashed) değil, düz çizgilerle gösterilmesini sağlar.\n"
      ],
      "metadata": {
        "id": "KW9jwX3eXskP"
      }
    },
    {
      "cell_type": "markdown",
      "source": [
        "***"
      ],
      "metadata": {
        "id": "C7oz6aysZxum"
      }
    },
    {
      "cell_type": "code",
      "source": [
        "polar_residue_selector = pyrosetta.rosetta.core.select.residue_selector.ResiduePropertySelector(\n",
        "    pyrosetta.rosetta.core.chemical.ResidueProperty.POLAR\n",
        ")\n",
        "\n",
        "view = viewer.init(pose)\n",
        "view.add(viewer.setStyle(radius=0.1))\n",
        "view.add(viewer.setStyle(residue_selector= polar_residue_selector, colorscheme=\"whiteCarbon\", radius=0.25, label=False))\n",
        "view.add(viewer.setHydrogens(color=\"White\", polar_only=True, radius=0.1))\n",
        "view.add(viewer.setHydrogenBonds(color=\"black\"))\n",
        "view.add(viewer.setDisulfides(radius=0.1))\n",
        "view()"
      ],
      "metadata": {
        "collapsed": true,
        "id": "ydjTDus8XKIB"
      },
      "execution_count": null,
      "outputs": []
    },
    {
      "cell_type": "markdown",
      "source": [
        "## Kod Açıklaması\n",
        "\n",
        " PyRosetta kullanarak protein yapısının görselleştirilmesi için belirli stil ayarları yapar. Özellikle, polar residue'leri seçer ve onları belirli bir şekilde görselleştirir.\n",
        "\n",
        "***ResiduePropertySelector***\n",
        "\n",
        " * Belirli bir özelliğe sahip kalıntıları seçmek için kullanılır. Burada, polar residue'leri seçmek için bir ResiduePropertySelector oluşturulmuştur.\n",
        "\n",
        "***ResidueProperty.POLAR***\n",
        "\n",
        " * Polar residue'lerin seçilmesini sağlar.\n",
        "\n",
        "***view = viewer.init(pose)***\n",
        "\n",
        "* pose nesnesini kullanarak bir görselleştirme başlatır. pose, PyRosetta'dan alınan ve protein yapısını temsil eden bir nesnedir.\n",
        "\n",
        "***viewer.setStyle(radius=0.1)***\n",
        "\n",
        "* Görselleştirmeye genel bir stil ekler. Bu örnekte, tüm atomlar için yarıçapı 0.1 olarak ayarlar.\n",
        "\n",
        "***residue_selector=polar_residue_selector***\n",
        "\n",
        "* Polar residue'leri seçer.\n",
        "\n",
        "***colorscheme=\"whiteCarbon\"***\n",
        "\n",
        "* Karbon atomları için beyaz renk şeması kullanır.\n",
        "\n",
        "***label=False***\n",
        "\n",
        "* residue'lerin etiketlenmemesini sağlar.\n",
        "\n",
        "***viewer.setHydrogens(color=\"White\", polar_only=True, radius=0.1)***\n",
        "\n",
        "* Görselleştirmeye hidrojen atomları ekler. Yalnızca polar kalıntılar için hidrojen atomlarını beyaz renkte ve yarıçapı 0.1 olacak şekilde görüntüler.\n",
        "\n",
        "***view.add(viewer.setHydrogenBonds(color=\"black\"))***\n",
        "\n",
        "* Görselleştirmeye hidrojen bağları ekler ve bu bağları siyah renkte görüntüler.\n",
        "\n",
        "***view.add(viewer.setDisulfides(radius=0.1))***\n",
        "\n",
        "*  Görselleştirmeye disülfid bağları ekler ve bu bağların yarıçapını 0.1 olarak ayarlar.\n",
        "\n"
      ],
      "metadata": {
        "id": "C7xpcDSwbFO7"
      }
    },
    {
      "cell_type": "markdown",
      "source": [
        "***"
      ],
      "metadata": {
        "id": "BOn0uMYFcOUT"
      }
    },
    {
      "cell_type": "code",
      "source": [
        "view = sum(\n",
        "    [\n",
        "        viewer.init(pose),\n",
        "        viewer.setStyle(cartoon=False, style=\"sphere\", radius=1.5, colorscheme=\"darkgreyCarbon\"),\n",
        "        viewer.setZoom(factor=0.95)\n",
        "    ]\n",
        ")\n",
        "\n",
        "view()"
      ],
      "metadata": {
        "collapsed": true,
        "id": "54KJDcGnbBoD"
      },
      "execution_count": null,
      "outputs": []
    },
    {
      "cell_type": "markdown",
      "source": [
        "## Kod Açıklaması\n",
        "\n",
        "***viewer.init(pose)***\n",
        "\n",
        "* pose nesnesini kullanarak bir görselleştirme başlatır. pose, PyRosetta'dan alınan ve protein yapısını temsil eden bir nesnedir.\n",
        "\n",
        "***cartoon=False***\n",
        "\n",
        "* Çizgi film stilini kapatır.\n",
        "\n",
        "***style=\"sphere\"***\n",
        "\n",
        "* Atomları küre şeklinde görüntüler.\n",
        "\n",
        "***radius=1.5***\n",
        "\n",
        "* Kürelerin yarıçapını 1.5 olarak ayarlar.\n",
        "\n",
        "***colorscheme=\"darkgreyCarbon***\n",
        "\n",
        "* Karbon atomları için koyu gri renk şeması kullanır\n",
        "\n",
        "***sum([...])***\n",
        "\n",
        "* Bu liste içindeki tüm görselleştirme ayarlarını toplar ve tek bir view nesnesi oluşturur.\n",
        "\n"
      ],
      "metadata": {
        "id": "8W92hAj8dC6Y"
      }
    },
    {
      "cell_type": "markdown",
      "source": [
        "***"
      ],
      "metadata": {
        "id": "49WceLtKdqqb"
      }
    },
    {
      "cell_type": "code",
      "source": [
        "!wget https://files.rcsb.org/download/6MSR.pdb\n",
        "pose = pyrosetta.io.pose_from_file(\"6MSR.pdb\")"
      ],
      "metadata": {
        "collapsed": true,
        "id": "qVKHuJ8Qc4Jc"
      },
      "execution_count": null,
      "outputs": []
    },
    {
      "cell_type": "code",
      "source": [
        "chA = pyrosetta.rosetta.core.select.residue_selector.ChainSelector(\"A\")\n",
        "chB = pyrosetta.rosetta.core.select.residue_selector.ChainSelector(\"B\")\n",
        "\n",
        "view = sum(\n",
        "    [\n",
        "        viewer.init(pose),\n",
        "        viewer.setStyle(cartoon_color=\"lightgrey\", radius=0.25),\n",
        "        viewer.setSurface(residue_selector=chA, colorscheme=\"greenCarbon\",opacity=0.65, surface_type=\"VDW\"),\n",
        "        viewer.setSurface(residue_selector=chB, color=\"blue\", opacity= 0.75, surface_type=\"SAS\"),\n",
        "        viewer.setDisulfides(radius=0.25),\n",
        "        viewer.setZoom(factor=1.5)\n",
        "    ]\n",
        ")\n",
        "\n",
        "view()"
      ],
      "metadata": {
        "collapsed": true,
        "id": "Y2qgvaXWeJOz"
      },
      "execution_count": null,
      "outputs": []
    },
    {
      "cell_type": "markdown",
      "source": [
        "## Kod Açıklaması\n",
        "\n",
        "***ChainSelector(\"A\")***\n",
        "\n",
        "* Zincir A'yı seçer\n",
        "\n",
        "***ChainSelector(\"B\")***\n",
        "\n",
        "* Zincir B'yi seçer.\n",
        "\n",
        "***cartoon_color=\"lightgrey\"***\n",
        "\n",
        "* cartoon stilindeki görüntüyü açık gri renkte ayarlar.\n",
        "\n",
        "***residue_selector=chA***\n",
        "\n",
        "* Zincir A'yı seçer.\n",
        "\n",
        "***colorscheme=\"greenCarbon\"***\n",
        "\n",
        "* Karbon atomları için yeşil renk şeması kullanır.\n",
        "\n",
        "***opacity=0.65***\n",
        "\n",
        "* Yüzeyin opaklığını %65 olarak ayarlar.\n",
        "\n",
        "***surface_type=\"VDW\"***\n",
        "\n",
        "* Van der Waals (VDW) yüzey tipi kullanır.\n",
        "\n",
        "***residue_selector=chB***\n",
        "\n",
        "* Zincir B'yi seçer.\n",
        "\n",
        "***color=\"blue\"***\n",
        "\n",
        "* Yüzeyi mavi renkte gösterir.\n",
        "\n",
        "***opacity=0.75***\n",
        "\n",
        "* Yüzeyin opaklığını %75 olarak ayarlar.\n",
        "\n",
        "***surface_type=\"SAS\"***\n",
        "\n",
        "* Solvent Accessible Surface (SAS) yüzey tipi kullanır.\n",
        "\n",
        "***viewer.setDisulfides(radius=0.25)***\n",
        "\n",
        "* Disülfid bağlarını ekler ve bu bağların yarıçapını 0.25 olarak ayarlar."
      ],
      "metadata": {
        "id": "Q9vMoaSkgthA"
      }
    },
    {
      "cell_type": "markdown",
      "source": [
        "## Info\n",
        "\n",
        "### Zincirlerin (Chain) Sınıflandırılması\n",
        "\n",
        "Protein yapılarında zincirler, genellikle protein veya polipeptit molekülünün farklı alt birimlerini temsil eder. Her bir zincir, amino asitlerin sıralı bir polimeridir ve farklı fonksiyonel veya yapısal bölgelere sahip olabilir.\n",
        "\n",
        "* Zincir ID'leri: Her zincire, bir harf veya rakam ile temsil edilen bir zincir kimliği (chain ID) atanır. Örneğin, Chain A, Chain B gibi.\n",
        "\n",
        "* Zincirlerin Farklılığı: Bir proteinde birden fazla zincir bulunabilir ve bu zincirler aynı veya farklı amino asit dizilerine sahip olabilir. Örneğin, hemoglobin proteini, iki alfa ve iki beta zincirinden oluşur.\n",
        "\n",
        "* Fonksiyonel Bölümler: Zincirler, proteinin farklı fonksiyonel alanlarını temsil edebilir. Örneğin, enzimlerin katalitik bölgeleri ve bağlanma bölgeleri genellikle farklı zincirlerde bulunabilir.\n",
        "\n",
        "### Disülfide Bağlarının Önemi\n",
        "\n",
        "Disülfid bağları (S-S bağları), proteinlerin yapısal stabilitesinde ve fonksiyonlarında önemli bir rol oynayan kovalent bağlardır. Disülfid bağları, iki sistein amino asidinin yan zincirlerinde bulunan thiol (–SH) gruplarının oksidasyonu sonucu oluşur.\n",
        "\n",
        "* Yapısal Stabilite: Disülfid bağları, proteinlerin üç boyutlu yapısını stabilize eder. Bu bağlar, özellikle dış ortam koşullarına karşı protein yapısını korur.\n",
        "\n",
        "* Katlanma (Folding): Disülfid bağları, proteinlerin doğru katlanmasına yardımcı olur ve katlanma sürecinde önemli bir rol oynar.\n",
        "\n",
        "* Fonksiyonel Aktiflik: Bazı proteinlerde, disülfid bağları fonksiyonel bölgelerin doğru konformasyona sahip olmasını sağlar ve bu da proteinin biyolojik aktivitesi için gereklidir.\n",
        "\n",
        "* Extracellular Proteinler: Disülfid bağları, genellikle hücre dışı ortamlarda bulunan proteinlerde daha yaygındır. Hücre dışı ortam, hücre içi ortama göre daha oksidatif bir ortamdır ve bu nedenle disülfid bağlarının oluşumu desteklenir.\n",
        "\n",
        "* Proteolytic Direnç: Disülfid bağları, proteazlar tarafından proteinlerin yıkımına karşı direnci artırır.\n",
        "\n",
        "###Van Der Waals (VDW) yüzeyi\n",
        "\n",
        "Van der Waals yüzeyi, bir molekülün atomlarının Van der Waals yarıçapları dikkate alınarak oluşturulan yüzeydir. Van der Waals yarıçapı, bir atomun çekirdeği ile diğer atomlarla arasındaki en kısa mesafeyi ifade eder ve atomlar arasındaki Van der Waals kuvvetleri ile belirlenir.\n",
        "\n",
        "* Moleküler dinamik simülasyonları ve hesaplamalı kimya çalışmalarında molekülün üç boyutlu yapısını anlamak.\n",
        "\n",
        "* Moleküller arası etkileşimlerin analizinde, özellikle ligand-reseptör etkileşimlerinde önemli olan yüzey alanlarını belirlemek.\n",
        "\n",
        "* Proteinlerin katlanma süreçlerinin incelenmesi ve stabilize edici etkileşimlerin analizi.\n",
        "\n",
        "###Solvent Accessible Surface (SAS) Yüzeyi\n",
        "\n",
        "Solvent Accessible Surface (SAS) yüzeyi, bir molekülün su veya başka bir çözücü tarafından erişilebilen yüzey alanını tanımlar. Bu yüzey, molekülün etrafında belirli bir yarıçapta (genellikle su molekülü yarıçapı) dönen bir prob kullanılarak oluşturulur\n",
        "\n",
        "* Proteinlerin ve diğer biyomoleküllerin çözücü ile etkileşimlerini analiz etmek.\n",
        "\n",
        "* Proteinlerin yüzey özelliklerini ve çözünebilirliklerini anlamak.\n",
        "\n",
        "* Enzim ve ligand bağlanma bölgelerinin belirlenmesi ve bu bölgelerdeki çözücü etkilerinin incelenmesi.\n",
        "\n",
        "* Protein-protein ve protein-ligand etkileşimlerinin tahmin edilmesi ve modellenmesi.\n"
      ],
      "metadata": {
        "id": "gJAgASmohvyt"
      }
    },
    {
      "cell_type": "markdown",
      "source": [
        "***"
      ],
      "metadata": {
        "id": "HUUeoN4A9Khq"
      }
    },
    {
      "cell_type": "code",
      "source": [
        "view.reinit()\n",
        "view()"
      ],
      "metadata": {
        "collapsed": true,
        "id": "0O4GIIXofUcl"
      },
      "execution_count": null,
      "outputs": []
    },
    {
      "cell_type": "markdown",
      "source": [
        "## Kod Açıklaması\n",
        "\n",
        "PyRosetta'da görselleştirme sürecini yeniden başlatmak ve ekranda tekrar göstermek için kullanılır.\n",
        "\n",
        "view.reinit()\n",
        "\n",
        "* Bu fonksiyon, mevcut görselleştirme durumunu sıfırlar ve yeniden başlatır. Bu, tüm önceki stil ayarlarını, zoom ayarlarını ve diğer görselleştirme modifikasyonlarını sıfırlayarak yeniden başlatılmış bir görselleştirme ortamı sağlar."
      ],
      "metadata": {
        "id": "yV3E9ZR5-f21"
      }
    },
    {
      "cell_type": "markdown",
      "source": [
        "***"
      ],
      "metadata": {
        "id": "HrHkoHB_-vXQ"
      }
    },
    {
      "cell_type": "code",
      "source": [
        "!wget https://files.rcsb.org/download/1QCQ.pdb"
      ],
      "metadata": {
        "collapsed": true,
        "id": "H1V40nns-JGc"
      },
      "execution_count": null,
      "outputs": []
    },
    {
      "cell_type": "code",
      "source": [
        "pose = pyrosetta.io.pose_from_file('1QCQ.pdb')"
      ],
      "metadata": {
        "id": "oBz7dNqD-6w9"
      },
      "execution_count": null,
      "outputs": []
    },
    {
      "cell_type": "code",
      "source": [
        "helix_selector = pyrosetta.rosetta.core.select.residue_selector.SecondaryStructureSelector(\"H\")\n",
        "sheet_selector = pyrosetta.rosetta.core.select.residue_selector.SecondaryStructureSelector(\"E\")\n",
        "loop_selector = pyrosetta.rosetta.core.select.residue_selector.SecondaryStructureSelector(\"L\")\n",
        "\n",
        "modules = [\n",
        "    viewer.setBackgroundColor(color=\"black\"),\n",
        "    viewer.setStyle(residue_selector=helix_selector, cartoon_color=\"cyan\", label=False, radius=0),\n",
        "    viewer.setStyle(residue_selector=sheet_selector, cartoon_color=\"red\", label=False, radius=0),\n",
        "    viewer.setStyle(residue_selector=loop_selector, cartoon_color=\"white\", label=False, radius=0),\n",
        "    viewer.setZoomTo(residue_selector=sheet_selector)\n",
        "]"
      ],
      "metadata": {
        "id": "VGBzocHE_BZl"
      },
      "execution_count": null,
      "outputs": []
    },
    {
      "cell_type": "code",
      "source": [
        "viewer.init(pose, window_size=(1200,600), modules=modules).show()"
      ],
      "metadata": {
        "collapsed": true,
        "id": "4XXrVcWzAyeF"
      },
      "execution_count": null,
      "outputs": []
    },
    {
      "cell_type": "markdown",
      "source": [
        "## Kod Açıklaması\n",
        "\n",
        "PyRosetta kullanarak protein yapısını görselleştirirken protein yapısındaki farklı ikincil yapı elemanlarını (helix, beta sheet ve loop) farklı renklerle gösterir ve beta sheet'e odaklanır.\n",
        "\n",
        "***SecondaryStructureSelector(\"H\")***\n",
        "\n",
        "* Heliks (H) yapısındaki kalıntıları seçer.\n",
        "\n",
        "***SecondaryStructureSelector(\"E\")***\n",
        "\n",
        "* Beta sheet (E) yapısındaki kalıntıları seçer.\n",
        "\n",
        "***SecondaryStructureSelector(\"L\")***\n",
        "\n",
        "* Loop (L) yapısındaki kalıntıları seçer.\n",
        "\n",
        "\n"
      ],
      "metadata": {
        "id": "L_IKF0wqBWwo"
      }
    },
    {
      "cell_type": "markdown",
      "source": [
        "***"
      ],
      "metadata": {
        "id": "hX7H-SJ_CDQR"
      }
    },
    {
      "cell_type": "code",
      "source": [
        "!wget https://files.rcsb.org/download/2FD7.pdb"
      ],
      "metadata": {
        "collapsed": true,
        "id": "gNzX5XmWA-W4"
      },
      "execution_count": null,
      "outputs": []
    },
    {
      "cell_type": "code",
      "source": [
        "pose = pyrosetta.io.pose_from_file('2FD7.pdb')"
      ],
      "metadata": {
        "collapsed": true,
        "id": "STu5anCtCPEJ"
      },
      "execution_count": null,
      "outputs": []
    },
    {
      "cell_type": "code",
      "source": [
        "view = viewer.init(pose, delay=0.15) \\\n",
        "  + viewer.setStyle(radius=0.1) \\\n",
        "  + viewer.setDisulfides(radius=0.1)\n",
        "backrub = pyrosetta.rosetta.protocols.backrub.BackrubMover()\n",
        "minimize = pyrosetta.rosetta.protocols.minimization_packing.MinMover()\n"
      ],
      "metadata": {
        "id": "84G048YbCWhb"
      },
      "execution_count": null,
      "outputs": []
    },
    {
      "cell_type": "code",
      "source": [
        "for _ in range(100):\n",
        "  backrub.apply(pose)\n",
        "  minimize.apply(pose)\n",
        "  view.show()"
      ],
      "metadata": {
        "collapsed": true,
        "id": "486nWbqIC9du"
      },
      "execution_count": null,
      "outputs": []
    },
    {
      "cell_type": "markdown",
      "source": [
        "## Kod Açıklaması\n",
        "\n",
        "PyRosetta kullanarak protein yapısının Backrub hareketleri ve enerji minimizasyonu ile optimize edilmesini görselleştirir.\n",
        "\n",
        "***viewer.init(pose, delay=0.15)***\n",
        "\n",
        "* pose nesnesini kullanarak görselleştirmeyi başlatır ve görüntülemeler arasında 0.15 saniye gecikme (delay) ayarlar.\n",
        "\n",
        "***BackrubMover()***\n",
        "\n",
        "* Backrub hareketi, protein yapısının yan zincir ve ana zincir bölgelerinde küçük esnek hareketler yapmasına olanak tanır. Bu, özellikle proteinlerin lokal yeniden düzenlenmeleri için kullanılır.\n",
        "\n",
        "***MinMover()***\n",
        "\n",
        "* MinMover (Minimization Mover), enerji minimizasyonu yapmak için kullanılır. Protein yapısının enerji açısından daha stabil bir konformasyona ulaşmasını sağlar.\n",
        "\n",
        "***for _ in range(100)***\n",
        "\n",
        "* Bu döngü, 100 kez tekrarlanır.\n",
        "\n",
        "***backrub.apply(pose)***\n",
        "\n",
        "*  Her iterasyonda, Backrub hareketi protein yapısına uygulanır.\n",
        "\n",
        "***minimize.apply(pose)***\n",
        "\n",
        "* Her Backrub hareketinden sonra, enerji minimizasyonu yapılır.\n",
        "\n"
      ],
      "metadata": {
        "id": "bE-yyCQ5DWIr"
      }
    },
    {
      "cell_type": "markdown",
      "source": [
        "## Info\n",
        "\n",
        "BackrubMover:\n",
        "\n",
        "* rotein yapısındaki küçük esnek hareketleri modellemek için kullanılan bir algoritmadır. Bu hareketler, özellikle yan zincirlerin ve ana zincirlerin lokal yeniden düzenlenmesi için kullanılır. Backrub hareketleri, proteinlerin doğal hareketlerini ve konformasyon değişikliklerini taklit etmek için biyomoleküler simülasyonlarda yaygın olarak kullanılır.\n",
        "\n",
        "* Lokal Esneklik: Proteinlerin esnekliğini ve hareket kabiliyetini artırmak için kullanılır. Proteinler, dinamik yapılar olup, fonksiyonlarını yerine getirmek için küçük hareketler yaparlar. BackrubMover, bu küçük hareketleri simüle eder.\n",
        "\n",
        "* Protein Tasarımı ve Optimizasyonu: Protein mühendisliği ve tasarımı çalışmalarında, belirli bölgelerdeki amino asitlerin konumlarını optimize etmek için kullanılır. Bu, protein-protein etkileşimleri, ligand bağlanması ve katalitik aktivite gibi fonksiyonel özellikleri iyileştirebilir.\n",
        "\n",
        "MinMover:\n",
        "\n",
        "* protein yapısının enerji minimizasyonu için kullanılan bir algoritmadır. Enerji minimizasyonu, bir protein yapısının potansiyel enerjisini azaltarak daha stabil bir konformasyona ulaşmasını sağlar. Bu süreç, proteinlerin doğal durumlarına daha yakın konformasyonlar elde etmek için kritiktir.\n",
        "\n",
        "* Enerji Minimizasyonu: MinMover, protein yapısının toplam enerjisini minimize eder. Bu, atomlar arasındaki potansiyel enerji fonksiyonunu optimize ederek yapılır.\n",
        "\n",
        "* Yapısal Stabilizasyon: Enerji minimizasyonu, protein yapısının daha stabil ve enerji açısından daha düşük bir konformasyona ulaşmasını sağlar. Bu, özellikle modelleme ve simülasyon çalışmalarında önemlidir.\n",
        "\n",
        "* Yan Zincir ve Ana Zincir Optimizasyonu: MinMover, hem yan zincirlerin hem de ana zincirlerin konumlarını optimize eder. Bu, protein-protein ve protein-ligand etkileşimlerini iyileştirebilir."
      ],
      "metadata": {
        "id": "G68lZaIsERyF"
      }
    },
    {
      "cell_type": "markdown",
      "source": [
        "***"
      ],
      "metadata": {
        "id": "uWz0xPs8Fwpw"
      }
    },
    {
      "cell_type": "code",
      "source": [
        "pose = pyrosetta.Pose()\n",
        "view = viewer.init(pose, delay=0.5) + viewer.setStyle(radius=0.1)\n",
        "\n",
        "add_pdb_info_mover = pyrosetta.rosetta.protocols.simple_moves.AddPDBInfoMover()\n",
        "mb = pyrosetta.rosetta.protocols.helical_bundle.MakeBundle()\n",
        "bpc = pyrosetta.rosetta.protocols.helical_bundle.BPC_Parameters\n",
        "\n",
        "n_helices = 4\n",
        "\n",
        "for h in range(1, (n_helices+1)):\n",
        "  mb.add_helix()\n",
        "  mb.helix(h).calculator_op().real_parameter(bpc.BPC_delta_omega0).set_value(h* (np.radians(360) / n_helices))\n",
        "for i in range(2, 42, 3):\n",
        "  for h in range(1, (n_helices + 1)):\n",
        "    mb.helix(h).set_helix_length(i)\n",
        "    mb.helix(h).calculator_op().real_parameter(bpc.BPC_r0).set_value(n_helices*2)\n",
        "    mb.helix(h).calculator_op().real_parameter(bpc.BPC_omega0).set_value(np.radians(5))\n",
        "  mb.apply(pose)\n",
        "  add_pdb_info_mover.apply(pose)\n",
        "  view()\n"
      ],
      "metadata": {
        "collapsed": true,
        "id": "6J5D0Y_pFyUv"
      },
      "execution_count": null,
      "outputs": []
    },
    {
      "cell_type": "code",
      "source": [
        "pose = pyrosetta.Pose()\n",
        "view = viewer.init(pose, delay=0.5) + viewer.setStyle(radius=0.1)\n",
        "\n",
        "add_pdb_info_mover = pyrosetta.rosetta.protocols.simple_moves.AddPDBInfoMover()\n",
        "mb = pyrosetta.rosetta.protocols.helical_bundle.MakeBundle()\n",
        "bpc = pyrosetta.rosetta.protocols.helical_bundle.BPC_Parameters\n",
        "\n",
        "n_helices = 6\n",
        "\n",
        "for h in range(1, (n_helices + 1)):\n",
        "  mb.add_helix()\n",
        "  mb.helix(h).calculator_op().real_parameter(bpc.BPC_delta_omega0).set_value(h * (np.radians(360) / n_helices))\n",
        "\n",
        "for i in np.arange(1,15):\n",
        "  for h in range(1, (n_helices + 1)):\n",
        "    mb.helix(h).set_helix_length(20)\n",
        "    mb.helix(h).calculator_op().real_parameter(bpc.BPC_r0).set_value(i)\n",
        "    mb.helix(h).calculator_op().real_parameter(bpc.BPC_omega0).set_value(np.radians(4))\n",
        "  mb.apply(pose)\n",
        "  add_pdb_info_mover.apply(pose)\n",
        "  view()\n",
        "\n"
      ],
      "metadata": {
        "collapsed": true,
        "id": "MQr0AoPuIWWR"
      },
      "execution_count": null,
      "outputs": []
    },
    {
      "cell_type": "markdown",
      "source": [
        "## Kod Açıklaması\n",
        "\n",
        "PyRosetta kullanarak bir helikal demet (helical bundle) oluşturur ve bu yapının görselleştirilmesini sağlar.\n",
        "\n",
        "***viewer.init(pose, delay=0.5)***\n",
        "\n",
        "* Görselleştirmeyi başlatır ve her güncelleme arasında 0.5 saniye gecikme (delay) ayarlar.\n",
        "\n",
        "***AddPDBInfoMover()***\n",
        "\n",
        "* Pose nesnesine PDB bilgilerini ekleyen bir mover.\n",
        "\n",
        "***MakeBundle()***\n",
        "\n",
        "* Helikal demetler oluşturmak için kullanılan bir protokol.\n",
        "\n",
        "***BPC_Parameters***\n",
        "\n",
        "* Heliks yapı parametrelerini tanımlamak için kullanılan bir sınıf.\n",
        "\n",
        "***n_helices = 4***\n",
        "\n",
        "* Oluşturulacak helikal demetin heliks sayısını 4 olarak belirler.\n",
        "\n",
        "***for h in range(1, (n_helices+1))***\n",
        "\n",
        "* Heliks sayısı kadar döngü oluşturur.\n",
        "\n",
        "***mb.add_helix()***\n",
        "\n",
        "* Yeni bir heliks ekler.\n",
        "\n",
        "***mb.helix(h).calculator_op().real_parameter(bpc.BPC_delta_omega0).set_value(h * (np.radians(360) / n_helices))***\n",
        "\n",
        "* Her helix için delta_omega0 parametresini, helixlerin 360 derecelik açıyla düzenlenmesini sağlayacak şekilde ayarlar.\n",
        "\n",
        "***for i in range(2, 42, 3)***\n",
        "\n",
        "* Heliks uzunluğunu 2'den 41'e kadar 3'er adım artırarak döngü oluşturur.\n",
        "\n",
        "***for h in range(1, (n_helices + 1))***\n",
        "\n",
        "* Her heliks için aşağıdaki işlemleri uygular.\n",
        "\n",
        "***mb.helix(h).set_helix_length(i)***\n",
        "\n",
        "* Heliks uzunluğunu i olarak ayarlar.\n",
        "\n",
        "***mb.helix(h).calculator_op().real_parameter(bpc.BPC_r0).set_value(n_helices * 2)***\n",
        "\n",
        "* parametresini heliks sayısının 2 katı olarak ayarlar.\n",
        "\n",
        "***mb.helix(h).calculator_op().real_parameter(bpc.BPC_omega0).set_value(np.radians(5))***\n",
        "\n",
        "* omega0 parametresini 5 derece (radyan cinsinden) olarak ayarlar.\n",
        "\n",
        "***mb.apply(pose)***\n",
        "\n",
        "* Helikal demeti pose nesnesine uygular.\n",
        "\n",
        "!!!İkinci kod kısmı\n",
        "\n",
        "\n",
        "***n_helices = 6***\n",
        "\n",
        "* Heliks Sayısı: Önceki kodda n_helices 4 olarak ayarlanmışken, bu kodda n_helices 6 olarak ayarlanmıştır:\n",
        "\n",
        "***for h in range(1, (n_helices + 1)):\n",
        "  mb.add_helix()\n",
        "  mb.helix(h).calculator_op().real_parameter(bpc.BPC_delta_omega0).set_value(h * (np.radians(360) / n_helices))***\n",
        "\n",
        "* Helikslerin Yerleştirilmesi: Her iki kodda da helikslerin yerleştirilmesi için delta_omega0 parametresi kullanılır, ancak bu kodda daha fazla heliks olduğundan, her bir heliksin açısı buna göre ayarlanır.\n",
        "\n",
        "* Bu, her bir heliksin 360 derece içinde eşit aralıklarla yerleştirilmesini sağlar.\n",
        "\n",
        "***mb.helix(h).set_helix_length(20)***\n",
        "\n",
        "* Heliks uzunluğu her zaman 20 olarak ayarlanır.\n",
        "\n",
        "***BPC_r0***\n",
        "\n",
        "* parametresi i değerine göre ayarlanır ve i değeri 1'den 14'e kadar artırılır\n",
        "\n",
        "***BPC_omega0***\n",
        "\n",
        "* parametresi sabit olarak 4 derece (radyan cinsinden) olarak ayarlanır."
      ],
      "metadata": {
        "id": "nluM8j0Po83c"
      }
    },
    {
      "cell_type": "markdown",
      "source": [
        "## Info\n",
        "\n",
        "Döngü İterasyonları ve Adım Aralığı\n",
        "\n",
        "* Adım aralığı, döngü içindeki işlemlerin daha geniş veya daha dar aralıklarla yapılmasını sağlar. Örneğin, bu durumda heliks uzunluğunu ayarlarken daha geniş aralıklarda değişiklik yapmak, yapıdaki büyük değişimleri gözlemlemeye yardımcı olur.\n",
        "\n",
        "* Adım aralığı daha küçük tutulduğunda (1 birimlik adımlar), her iterasyonda daha ince değişiklikler yapılır. Bu, yapıdaki ince ayarları ve daha hassas değişiklikleri gözlemlemeye yardımcı olur."
      ],
      "metadata": {
        "id": "7tdpG5JdxPWK"
      }
    },
    {
      "cell_type": "markdown",
      "source": [
        "***"
      ],
      "metadata": {
        "id": "wzcoob3Hj-mV"
      }
    },
    {
      "cell_type": "code",
      "source": [
        "!wget https://files.rcsb.org/download/3EK4.pdb\n",
        "pose = pyrosetta.io.pose_from_file(\"3EK4.pdb\")"
      ],
      "metadata": {
        "collapsed": true,
        "id": "Zp-NXOxKkWWt"
      },
      "execution_count": null,
      "outputs": []
    },
    {
      "cell_type": "markdown",
      "source": [],
      "metadata": {
        "id": "2UcBrS_Elezn"
      }
    },
    {
      "cell_type": "code",
      "source": [
        "pdbfiles = ['3EK4.pdb','6MSR.pdb','1QCQ.pdb','2FD7.pdb']\n",
        "poses = [pyrosetta.io.pose_from_file(p) for p in pdbfiles]"
      ],
      "metadata": {
        "collapsed": true,
        "id": "G3kry294YEK_"
      },
      "execution_count": null,
      "outputs": []
    },
    {
      "cell_type": "code",
      "source": [
        "viewer.presets.coreBoundarySurface(poses, window_size=(800,600), continuous_update=True)"
      ],
      "metadata": {
        "id": "Ejw_zOTYofCs",
        "collapsed": true
      },
      "execution_count": null,
      "outputs": []
    },
    {
      "cell_type": "code",
      "source": [
        "viewer.presets.ligandsAndMetals(poses, window_size=(800,600), continuous_update= False)"
      ],
      "metadata": {
        "collapsed": true,
        "id": "ByNA8-zwl180"
      },
      "execution_count": null,
      "outputs": []
    },
    {
      "cell_type": "markdown",
      "source": [
        "## Kod Açıklaması\n",
        "\n",
        "***pose_from_file***\n",
        "\n",
        "* PDB dosyasını yüklemek için PyRosetta'nın pose_from_file fonksiyonunu kullanır. pose_from_file fonksiyonu, bir PDB dosyasını okuyarak bu dosyadan bir pose nesnesi oluşturur. Pose nesnesi, moleküler yapının tüm atom koordinatlarını ve bağ bilgilerini içerir.\n",
        "\n",
        "***viewer.presets.coreBoundarySurface***\n",
        "\n",
        "* coreBoundarySurface fonksiyonu, molekülün çekirdek sınır yüzeyini gösterir. Bu görselleştirme, molekülün iç ve dış sınırlarını tanımlayan bir yüzey oluşturur.\n",
        "\n",
        "***continuous_update=True***\n",
        "\n",
        "* continuous_update=True ise görselleştirmenin sürekli olarak güncellenmesini sağlar.\n",
        "\n",
        "***viewer.presets.ligandsAndMetals***\n",
        "\n",
        "* ligandsAndMetals fonksiyonu, molekülde bulunan ligandları ve metalleri vurgular.\n",
        "\n",
        "***continuous_update=False***\n",
        "\n",
        "* Bu görselleştirmenin sabit kalmasını ve sürekli olarak güncellenmemesini sağlar.\n"
      ],
      "metadata": {
        "id": "B_5r8o3PnqFG"
      }
    },
    {
      "cell_type": "markdown",
      "source": [
        "***"
      ],
      "metadata": {
        "id": "IPPy3s-spebN"
      }
    },
    {
      "cell_type": "code",
      "source": [
        "def myCustomPreset(packed_and_poses_and_pdbs=None, *args, **kwargs):\n",
        "  \"\"\"\n",
        "  Add a description of the preset Viewer here\n",
        "  \"\"\"\n",
        "\n",
        "  metals_selector = pyrosetta.rosetta.core.select.residue_selector.ResiduePropertySelector(\n",
        "      pyrosetta.rosetta.core.chemical.ResidueProperty.METAL\n",
        "  )\n",
        "  ligands_selector = pyrosetta.rosetta.core.select.residue_selector.ResiduePropertySelector(\n",
        "      pyrosetta.rosetta.core.chemical.ResidueProperty.LIGAND\n",
        "  )\n",
        "\n",
        "  view = viewer.init(packed_and_poses_and_pdbs=packed_and_poses_and_pdbs, *args, **kwargs) \\\n",
        "    + viewer.setBackgroundColor(\"White\") \\\n",
        "    + viewer.setStyle(style='stick', colorscheme='lightgreyCarbon',radius=0.15) \\\n",
        "    + viewer.setStyle(residue_selector=ligands_selector, style='stick',colorscheme='brownCarbon', radius=0.5, label=True) \\\n",
        "    + viewer.setStyle(residue_selector=metals_selector, style= 'sphere', colorscheme='chainHeratm', radius=1.5, label=True) \\\n",
        "    + viewer.setHydrogenBonds() \\\n",
        "    + viewer.setDisulfides(radius=0.15) \\\n",
        "    + viewer.setHydrogens(color=\"white\", radius=0.033, polar_only=True) \\\n",
        "    + viewer.setSurface(residue_selector=ligands_selector, surface_type=\"VDW\", opacity=0.5, color=\"magenta\")\\\n",
        "    + viewer.setZoomTo(residue_selector=ligands_selector)\n",
        "\n",
        "  return view()\n",
        "\n",
        "myCustomPreset(poses[0])"
      ],
      "metadata": {
        "collapsed": true,
        "id": "v9eppkQzmRkt"
      },
      "execution_count": null,
      "outputs": []
    },
    {
      "cell_type": "markdown",
      "source": [
        "## Kod Açıklaması\n",
        "\n",
        "PyRosetta kullanarak bir moleküller yapı görselleştirme işlemi için özel bir ön ayar (preset) tanımlar. Fonksiyon, belirli özelliklere sahip moleküler yapıların belirli bir görselleştirme stilinde görüntülenmesini sağlar.\n",
        "\n",
        "***myCustomPreset***\n",
        "\n",
        "*  fonksiyonu, çeşitli görselleştirme ayarları yaparak molekülleri belirli bir tarzda görüntülemeyi sağlar.\n",
        "\n",
        "***packed_and_poses_and_pdbs***\n",
        "\n",
        "* Görselleştirilecek yapıların (pose'ların) listesi.\n",
        "\n",
        "*args ve **kwargs\n",
        "\n",
        "* Ek argümanlar ve anahtar kelime argümanları.\n",
        "\n",
        "***viewer.init()***\n",
        "\n",
        "* Görselleştirmeyi başlatır.\n",
        "\n",
        "setBackgroundColor(\"White\")\n",
        "\n",
        "* Arka plan rengini beyaz olarak ayarlar.\n",
        "\n",
        "residue_selector=ligands_selector\n",
        "\n",
        "* Ligandları çubuk stilinde, kahverengi renk şemasında, belirli bir yarıçapta ve etiketli olarak gösterir.\n",
        "\n",
        "***residue_selector=metals_selector***\n",
        "\n",
        "* Metaller için küre stilinde, zincir renk şemasında, belirli bir yarıçapta ve etiketli olarak gösterir.\n",
        "\n",
        "***setHydrogenBonds()***\n",
        "\n",
        "* Hidrojen bağlarını gösterir.\n",
        "\n",
        "***setDisulfides(radius=0.15)***\n",
        "\n",
        "* Disülfid bağlarını belirli bir yarıçapta gösterir.\n",
        "\n",
        "***setHydrogens()***\n",
        "\n",
        "* Hidrojen atomlarını beyaz renkte, belirli bir yarıçapta ve sadece polar olanları gösterir.\n",
        "\n",
        "***setSurface(residue_selector=ligands_selector, surface_type=\"VDW\", opacity=0.5...)***\n",
        "\n",
        "* ligandlar için van der waals yüzeyini magenta renkte, yarı saydam olarak gösterir.\n",
        "\n",
        "***myCustomPreset()***\n",
        "\n",
        "* fonksiyonu poses[0] argümanıyla çağrılır ve belirtilen yapı bu özel görselleştirme ayarlarıyla görüntülenir."
      ],
      "metadata": {
        "id": "f3-ekvC6vrb4"
      }
    },
    {
      "cell_type": "markdown",
      "source": [
        "***"
      ],
      "metadata": {
        "id": "0YP7gTGp2Lq9"
      }
    },
    {
      "cell_type": "code",
      "source": [],
      "metadata": {
        "id": "qQ1X67lUu-cL"
      },
      "execution_count": null,
      "outputs": []
    }
  ]
}